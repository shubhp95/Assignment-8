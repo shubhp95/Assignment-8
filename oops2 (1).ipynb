{
 "cells": [
  {
   "cell_type": "code",
   "execution_count": null,
   "id": "2e84ed18-2c00-42c9-ad23-65ea1fab1a14",
   "metadata": {},
   "outputs": [],
   "source": [
    "#Ans1:\n",
    "#In Python, the open() function is used to open a file\n"
   ]
  },
  {
   "cell_type": "code",
   "execution_count": null,
   "id": "798eea27-49ca-4c80-86ad-acc09f27757b",
   "metadata": {},
   "outputs": [],
   "source": [
    "#1.'r' – Read Mode\n",
    "#Description: Opens the file for reading only. The file pointer is placed at the beginning of the file.\n",
    "#2.'w' – Write Mode\n",
    "#Description: Opens the file for writing only. If the file already exists, its contents are truncated (deleted). If the file does not exist, a new file is created.\n",
    "#3.'a' – Append Mode\n",
    "#Description: Opens the file for writing only. If the file already exists, data is appended to the end of the file. If the file does not exist, a new file is created.\n",
    "#'b' – Binary Mode\n",
    "#Description: Opens the file in binary mode. This mode can be used in conjunction with other modes."
   ]
  },
  {
   "cell_type": "code",
   "execution_count": null,
   "id": "cf0fd0c7-c672-4c3b-a5a9-9280dfbac1a4",
   "metadata": {},
   "outputs": [],
   "source": [
    "#Ans2: The close() function is used to close an open file in Python\n",
    "#It is important to use close() function because of the following reasons-\n",
    "#Resource Management\n",
    "# Data Integrity\n",
    "#File Locking\n",
    "#Avoiding Errors"
   ]
  },
  {
   "cell_type": "code",
   "execution_count": 5,
   "id": "3fed7cf4-004c-4341-b0c6-bfa6101de29f",
   "metadata": {},
   "outputs": [
    {
     "name": "stdout",
     "output_type": "stream",
     "text": [
      "I want to become a Data Scientist\n"
     ]
    }
   ],
   "source": [
    "#Ans3:\n",
    "with open('data.txt', 'w') as file:\n",
    "    file.write(\"I want to become a Data Scientist\")\n",
    "with open('data.txt', 'r') as file:\n",
    "    content = file.read()\n",
    "print(content)"
   ]
  },
  {
   "cell_type": "code",
   "execution_count": 9,
   "id": "3cc4dcff-7de7-4184-beea-a9a240668853",
   "metadata": {},
   "outputs": [
    {
     "name": "stdout",
     "output_type": "stream",
     "text": [
      "Read method output:\n",
      "Line 1\n",
      "Line 2\n",
      "Line 3\n"
     ]
    }
   ],
   "source": [
    "#Ans 4: \n",
    "#read()-reads the entire content of the file at once.\n",
    "with open('line.txt', 'w') as file:\n",
    "    file.write(\"Line 1\\nLine 2\\nLine 3\")\n",
    "with open('line.txt', 'r') as file:\n",
    "    content = file.read()\n",
    "\n",
    "print(\"Read method output:\")\n",
    "print(content)"
   ]
  },
  {
   "cell_type": "code",
   "execution_count": 13,
   "id": "c8daf592-6920-44c2-a080-ee95b9d47052",
   "metadata": {},
   "outputs": [
    {
     "name": "stdout",
     "output_type": "stream",
     "text": [
      "Readline method output:\n",
      "Line 1\n",
      "\n",
      "Line 2\n",
      "\n",
      "Line 3\n"
     ]
    }
   ],
   "source": [
    "#readline-Reads a single line from the file.\n",
    "with open('line.txt', 'r') as file:\n",
    "    print(\"Readline method output:\")\n",
    "    print(file.readline())\n",
    "    print(file.readline())\n",
    "    print(file.readline()) "
   ]
  },
  {
   "cell_type": "code",
   "execution_count": 15,
   "id": "e67a8a8f-7205-4277-8554-8088482dc6ad",
   "metadata": {},
   "outputs": [
    {
     "name": "stdout",
     "output_type": "stream",
     "text": [
      "Readlines method output:\n",
      "Line 1\n",
      "Line 2\n",
      "Line 3\n"
     ]
    }
   ],
   "source": [
    "#readliness-Reads all lines of the file and returns them as a list of strings, where each string is a line from the file.\n",
    "with open('example.txt', 'r') as file:\n",
    "    lines = file.readlines()\n",
    "print(\"Readlines method output:\")\n",
    "for line in lines:\n",
    "    print(line.strip()) "
   ]
  },
  {
   "cell_type": "code",
   "execution_count": null,
   "id": "02158486-3aed-449a-b3b7-a4695840f121",
   "metadata": {},
   "outputs": [],
   "source": [
    "#Ans5:The with statement is used with open() in Python to handle file operations more safely and efficiently\n",
    "#Advantages\n",
    "#1.Automatic Resource Management\n",
    "#2.Error Handling\n",
    "#3.Cleaner and More Readable Code\n",
    "#4.Resource Leak Prevention\n",
    "#5.Consistent Behavior"
   ]
  },
  {
   "cell_type": "code",
   "execution_count": 17,
   "id": "3c97ae34-ef38-4e65-a022-f1e2a592c4b8",
   "metadata": {},
   "outputs": [],
   "source": [
    "#Ans6:\n",
    "#write()\n",
    "#Writes a string to a file.\n",
    "#Code-\n",
    "with open('example.txt', 'w') as file:\n",
    "    file.write(\"Hello, World!\")\n",
    "    file.write(\"\\nThis is another line.\")"
   ]
  },
  {
   "cell_type": "code",
   "execution_count": 19,
   "id": "e17f8033-d611-4af9-ab13-bd56b0cdca05",
   "metadata": {},
   "outputs": [],
   "source": [
    "#writelines() \n",
    "#Writes a sequence of strings to a file\n",
    "lines = [\n",
    "    \"Hello, World!\\n\",\n",
    "    \"This is the second line.\\n\",\n",
    "    \"And this is the third line.\\n\"\n",
    "]\n",
    "with open('example.txt', 'w') as file:\n",
    "    file.writelines(lines)"
   ]
  },
  {
   "cell_type": "code",
   "execution_count": null,
   "id": "65b0e9ba-f3c0-4d9c-ab80-c26974a46b5b",
   "metadata": {},
   "outputs": [],
   "source": []
  },
  {
   "cell_type": "code",
   "execution_count": null,
   "id": "61416127-2590-4c84-817d-20d387db3909",
   "metadata": {},
   "outputs": [],
   "source": []
  }
 ],
 "metadata": {
  "kernelspec": {
   "display_name": "Python 3 (ipykernel)",
   "language": "python",
   "name": "python3"
  },
  "language_info": {
   "codemirror_mode": {
    "name": "ipython",
    "version": 3
   },
   "file_extension": ".py",
   "mimetype": "text/x-python",
   "name": "python",
   "nbconvert_exporter": "python",
   "pygments_lexer": "ipython3",
   "version": "3.12.4"
  }
 },
 "nbformat": 4,
 "nbformat_minor": 5
}
